{
 "cells": [
  {
   "cell_type": "code",
   "execution_count": 99,
   "id": "aa7ba3ff-2f42-4156-8e4f-bf0abd3f977f",
   "metadata": {},
   "outputs": [],
   "source": [
    "import pickle\n",
    "import pandas as pd\n",
    "import numpy as np\n",
    "import re\n",
    "import ast\n",
    "from flask import Flask, request, jsonify\n",
    "from sklearn.metrics.pairwise import cosine_similarity"
   ]
  },
  {
   "cell_type": "code",
   "execution_count": 113,
   "id": "8ef77672-c7c4-4b48-b2fd-264e0f201c19",
   "metadata": {},
   "outputs": [],
   "source": [
    "with open('recipe_recommendation_model.pkl', 'rb') as f:\n",
    "    vocab = pickle.load(f)\n",
    "\n",
    "df = pd.read_csv('recipes_processed1.csv')"
   ]
  },
  {
   "cell_type": "code",
   "execution_count": 115,
   "id": "1f404dab-0c4c-49bd-8185-bd2c2f9c8f8c",
   "metadata": {},
   "outputs": [],
   "source": [
    "df['Ingredient_Vector'] = df['Ingredient_Vector'].apply(ast.literal_eval)"
   ]
  },
  {
   "cell_type": "code",
   "execution_count": 116,
   "id": "0b914f41-5c8f-438f-9806-5bf2ebc0d1c6",
   "metadata": {},
   "outputs": [],
   "source": [
    "def vectorize_ingredients(ingredient_str, vocab):\n",
    "    \"\"\" Convert input ingredients string into a vector based on vocabulary. \"\"\"\n",
    "    vector = [0] * len(vocab)\n",
    "    ingredients = [ingredient.strip().lower() for ingredient in re.split(r',|\\s', ingredient_str) if ingredient]\n",
    "    for ingredient in ingredients:\n",
    "        if ingredient in vocab:\n",
    "            vector[vocab.index(ingredient)] = 1\n",
    "    return vector"
   ]
  },
  {
   "cell_type": "code",
   "execution_count": 121,
   "id": "35bc9856-d635-4e01-a3e1-25c9894b6004",
   "metadata": {},
   "outputs": [],
   "source": [
    "def recommend_recipes(user_vector, df, top_n=5):\n",
    "    recipe_vectors = np.array(df['Ingredient_Vector'].tolist())\n",
    "    user_vector = vectorize_ingredients(user_vector, vocab)\n",
    "    user_vector = np.array(user_vector).reshape(1, -1)\n",
    "    similarity_scores = cosine_similarity(user_vector, recipe_vectors)[0]\n",
    "    \n",
    "    recipe_similarity = list(enumerate(similarity_scores))\n",
    "    top_indices = sorted(recipe_similarity, key=lambda x: x[1], reverse=True)[:top_n]\n",
    "    \n",
    "    results = []\n",
    "    for index, score in top_indices:\n",
    "        name = df.loc[index, 'Title']\n",
    "        ingredients = df.loc[index, 'Core_Ingredients']\n",
    "        url = df.loc[index, 'Link']  # Use 'Image Link' column\n",
    "        \n",
    "        # Format ingredients with commas\n",
    "        formatted_ingredients = ', '.join(ingredients.split())  # If ingredients are space-separated\n",
    "        \n",
    "        results.append({'name': name, 'ingredients': formatted_ingredients, 'url': url})\n",
    "    \n",
    "    return results"
   ]
  },
  {
   "cell_type": "code",
   "execution_count": 125,
   "id": "e1889bb8-8eba-410e-ad13-5d2af5dd8f2a",
   "metadata": {},
   "outputs": [
    {
     "name": "stdout",
     "output_type": "stream",
     "text": [
      "Top Recipe Recommendations:\n",
      "\n",
      "1. Black Forest Chicken Recipe\n",
      "   Ingredients: juice, tomato, breasts, sauce, pepper, chicken, ginger, onion, winegrape, garlic\n",
      "   URL: https://food.ndtv.com/recipe-black-forest-chicken-956210\n",
      "\n",
      "2. Veg Hakka Noodles Recipe\n",
      "   Ingredients: cabbage, beans, noodles, soy, chilli, tomato, sauce, onion, spring, capsicum, ginger, carrot, garlic, green\n",
      "   URL: https://food.ndtv.com/recipe-veg-hakka-noodles-952069\n",
      "\n",
      "3. Egg Pasta Recipe\n",
      "   Ingredients: red, garam, tomato, chilli, taste, egg, capsicum, cumin, ginger, onion, masala, penne, seeds, garlic, pasta\n",
      "   URL: https://food.ndtv.com/recipe-egg-pasta-955600\n",
      "\n",
      "4. Sooji Manchurian Recipe\n",
      "   Ingredients: semolina, cabbage, ketchup, tomato, curd, sauce, onion, pieces, capsicum, ginger, chillies, soya, garlic, herbs, chili, green\n",
      "   URL: https://food.ndtv.com/recipe-sooji-manchurian-956126\n",
      "\n",
      "5. Mango Avocado & Ginger Bruschetta Recipe\n",
      "   Ingredients: chilies, slice, juice, lemon, loaf, tomato, pepper, bread, pieces, green, ginger, onion, garlic, mango, coriander, olive\n",
      "   URL: https://food.ndtv.com/recipe-mango-avocado-ginger-bruschetta-958600\n",
      "\n"
     ]
    }
   ],
   "source": [
    "sample_ingredients = \"onion, garlic, tomato, ginger\"\n",
    "\n",
    "# Call the recommendation function\n",
    "results = recommend_recipes(sample_ingredients, df, top_n=5)\n",
    "\n",
    "# Print the results\n",
    "print(\"Top Recipe Recommendations:\\n\")\n",
    "for i, recipe in enumerate(results, start=1):\n",
    "    print(f\"{i}. {recipe['name']}\")\n",
    "    print(f\"   Ingredients: {recipe['ingredients']}\")\n",
    "    print(f\"   URL: {recipe['url']}\\n\")"
   ]
  },
  {
   "cell_type": "code",
   "execution_count": null,
   "id": "2312f6bc-c763-4c43-8e64-5dc0b565d0d1",
   "metadata": {},
   "outputs": [],
   "source": []
  }
 ],
 "metadata": {
  "kernelspec": {
   "display_name": "Python [conda env:base] *",
   "language": "python",
   "name": "conda-base-py"
  },
  "language_info": {
   "codemirror_mode": {
    "name": "ipython",
    "version": 3
   },
   "file_extension": ".py",
   "mimetype": "text/x-python",
   "name": "python",
   "nbconvert_exporter": "python",
   "pygments_lexer": "ipython3",
   "version": "3.12.7"
  }
 },
 "nbformat": 4,
 "nbformat_minor": 5
}
